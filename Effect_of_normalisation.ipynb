{
  "nbformat": 4,
  "nbformat_minor": 0,
  "metadata": {
    "colab": {
      "name": "Effect_of_normalisation.ipynb",
      "provenance": [],
      "authorship_tag": "ABX9TyPH5QO9hQZpnH+b57YH9CPw",
      "include_colab_link": true
    },
    "kernelspec": {
      "name": "python3",
      "display_name": "Python 3"
    },
    "language_info": {
      "name": "python"
    }
  },
  "cells": [
    {
      "cell_type": "markdown",
      "metadata": {
        "id": "view-in-github",
        "colab_type": "text"
      },
      "source": [
        "<a href=\"https://colab.research.google.com/github/uneetkumarsingh/AISL/blob/main/Effect_of_normalisation.ipynb\" target=\"_parent\"><img src=\"https://colab.research.google.com/assets/colab-badge.svg\" alt=\"Open In Colab\"/></a>"
      ]
    },
    {
      "cell_type": "code",
      "execution_count": 1,
      "metadata": {
        "id": "h63rh3WRi4Pc"
      },
      "outputs": [],
      "source": [
        "import numpy as np\n",
        "import matplotlib.pyplot as plt"
      ]
    },
    {
      "cell_type": "code",
      "source": [
        "from sklearn import datasets\n",
        "x,y = datasets.make_regression(n_samples=100, n_features=1, n_informative=10, n_targets=1,  noise=100)"
      ],
      "metadata": {
        "id": "MuutPgkbkX7i"
      },
      "execution_count": 43,
      "outputs": []
    },
    {
      "cell_type": "code",
      "source": [
        "x = np.linspace(-1,1,100)\n",
        "e = np.random.randn(1,100)\n",
        "y = 3*x + e"
      ],
      "metadata": {
        "id": "fVuHOaThpYlw"
      },
      "execution_count": 88,
      "outputs": []
    },
    {
      "cell_type": "code",
      "source": [
        "plt.scatter(x,y)\n",
        "plt.xlim(-3,3)\n",
        "plt.ylim(-3,3)\n",
        "plt.scatter(y,x)\n",
        "plt.xlim(-3,3)\n",
        "plt.ylim(-3,3)"
      ],
      "metadata": {
        "colab": {
          "base_uri": "https://localhost:8080/",
          "height": 286
        },
        "id": "kd4fYcZDjmXA",
        "outputId": "e25a829a-b22e-49e0-e088-1315cbe70278"
      },
      "execution_count": 90,
      "outputs": [
        {
          "output_type": "execute_result",
          "data": {
            "text/plain": [
              "(-3.0, 3.0)"
            ]
          },
          "metadata": {},
          "execution_count": 90
        },
        {
          "output_type": "display_data",
          "data": {
            "text/plain": [
              "<Figure size 432x288 with 1 Axes>"
            ],
            "image/png": "[encoded data removed]"
          },
          "metadata": {
            "needs_background": "light"
          }
        }
      ]
    },
    {
      "cell_type": "code",
      "source": [
        "x_std = (x - np.mean(x))/np.std(x)\n",
        "y_std = (y - np.mean(y))/np.std(y)"
      ],
      "metadata": {
        "id": "3dBrdU6ol1mp"
      },
      "execution_count": 91,
      "outputs": []
    },
    {
      "cell_type": "code",
      "source": [
        "fig.suptitle('After Standardisation', fontsize=16)\n",
        "fig, axes = plt.subplots(1,2)\n",
        "axes[0].scatter(x_std,y_std)\n",
        "axes[0].set_xlim(-3,3)\n",
        "axes[0].set_ylim(-3,3)\n",
        "axes[1].scatter(y_std,x_std)\n",
        "axes[1].set_xlim(-3,3)\n",
        "axes[1].set_ylim(-3,3)\n",
        "plt.show()"
      ],
      "metadata": {
        "colab": {
          "base_uri": "https://localhost:8080/",
          "height": 269
        },
        "id": "-fyzk4YhmjdG",
        "outputId": "8dad46c7-ad04-48ce-f417-83279196b29e"
      },
      "execution_count": 99,
      "outputs": [
        {
          "output_type": "display_data",
          "data": {
            "text/plain": [
              "<Figure size 432x288 with 2 Axes>"
            ],
            "image/png": "[encoded data removed]"
          },
          "metadata": {
            "needs_background": "light"
          }
        }
      ]
    },
    {
      "cell_type": "code",
      "source": [
        "import statsmodels.api as sm\n",
        "mod = sm.OLS(y,x)\n",
        "res = mod.fit()\n",
        "print(res.summary())"
      ],
      "metadata": {
        "colab": {
          "base_uri": "https://localhost:8080/"
        },
        "id": "9mFCF63SnDIL",
        "outputId": "0ea09e19-5944-4fbe-bb58-6f0ce37e1ca7"
      },
      "execution_count": 57,
      "outputs": [
        {
          "output_type": "stream",
          "name": "stdout",
          "text": [
            "                                 OLS Regression Results                                \n",
            "=======================================================================================\n",
            "Dep. Variable:                      y   R-squared (uncentered):                   0.096\n",
            "Model:                            OLS   Adj. R-squared (uncentered):              0.087\n",
            "Method:                 Least Squares   F-statistic:                              10.57\n",
            "Date:                Wed, 20 Jul 2022   Prob (F-statistic):                     0.00157\n",
            "Time:                        08:01:39   Log-Likelihood:                         -603.70\n",
            "No. Observations:                 100   AIC:                                      1209.\n",
            "Df Residuals:                      99   BIC:                                      1212.\n",
            "Df Model:                           1                                                  \n",
            "Covariance Type:            nonrobust                                                  \n",
            "==============================================================================\n",
            "                 coef    std err          t      P>|t|      [0.025      0.975]\n",
            "------------------------------------------------------------------------------\n",
            "x1            37.9605     11.675      3.251      0.002      14.794      61.127\n",
            "==============================================================================\n",
            "Omnibus:                        2.271   Durbin-Watson:                   2.096\n",
            "Prob(Omnibus):                  0.321   Jarque-Bera (JB):                1.856\n",
            "Skew:                           0.190   Prob(JB):                        0.395\n",
            "Kurtosis:                       2.452   Cond. No.                         1.00\n",
            "==============================================================================\n",
            "\n",
            "Warnings:\n",
            "[1] Standard Errors assume that the covariance matrix of the errors is correctly specified.\n"
          ]
        }
      ]
    },
    {
      "cell_type": "code",
      "source": [
        "mod = sm.OLS(x,y)\n",
        "res = mod.fit()\n",
        "print(res.summary())"
      ],
      "metadata": {
        "colab": {
          "base_uri": "https://localhost:8080/"
        },
        "id": "XTiEAVKDndIy",
        "outputId": "0bb447f5-1996-40cd-c480-c0e5653b91fd"
      },
      "execution_count": 54,
      "outputs": [
        {
          "output_type": "stream",
          "name": "stdout",
          "text": [
            "                                 OLS Regression Results                                \n",
            "=======================================================================================\n",
            "Dep. Variable:                      y   R-squared (uncentered):                   0.096\n",
            "Model:                            OLS   Adj. R-squared (uncentered):              0.087\n",
            "Method:                 Least Squares   F-statistic:                              10.57\n",
            "Date:                Wed, 20 Jul 2022   Prob (F-statistic):                     0.00157\n",
            "Time:                        07:59:43   Log-Likelihood:                         -123.13\n",
            "No. Observations:                 100   AIC:                                      248.3\n",
            "Df Residuals:                      99   BIC:                                      250.9\n",
            "Df Model:                           1                                                  \n",
            "Covariance Type:            nonrobust                                                  \n",
            "==============================================================================\n",
            "                 coef    std err          t      P>|t|      [0.025      0.975]\n",
            "------------------------------------------------------------------------------\n",
            "x1             0.0025      0.001      3.251      0.002       0.001       0.004\n",
            "==============================================================================\n",
            "Omnibus:                        4.247   Durbin-Watson:                   1.734\n",
            "Prob(Omnibus):                  0.120   Jarque-Bera (JB):                3.739\n",
            "Skew:                           0.335   Prob(JB):                        0.154\n",
            "Kurtosis:                       3.669   Cond. No.                         1.00\n",
            "==============================================================================\n",
            "\n",
            "Warnings:\n",
            "[1] Standard Errors assume that the covariance matrix of the errors is correctly specified.\n"
          ]
        }
      ]
    },
    {
      "cell_type": "code",
      "source": [
        "mod = sm.OLS(x_std,y_std)\n",
        "res = mod.fit()\n",
        "print(res.summary())"
      ],
      "metadata": {
        "colab": {
          "base_uri": "https://localhost:8080/"
        },
        "id": "nxWQtuD3nfuo",
        "outputId": "d9ddc385-a30d-42c9-9354-19b7af920c23"
      },
      "execution_count": 55,
      "outputs": [
        {
          "output_type": "stream",
          "name": "stdout",
          "text": [
            "                                 OLS Regression Results                                \n",
            "=======================================================================================\n",
            "Dep. Variable:                      y   R-squared (uncentered):                   0.093\n",
            "Model:                            OLS   Adj. R-squared (uncentered):              0.084\n",
            "Method:                 Least Squares   F-statistic:                              10.13\n",
            "Date:                Wed, 20 Jul 2022   Prob (F-statistic):                     0.00195\n",
            "Time:                        08:00:31   Log-Likelihood:                         -137.02\n",
            "No. Observations:                 100   AIC:                                      276.0\n",
            "Df Residuals:                      99   BIC:                                      278.7\n",
            "Df Model:                           1                                                  \n",
            "Covariance Type:            nonrobust                                                  \n",
            "==============================================================================\n",
            "                 coef    std err          t      P>|t|      [0.025      0.975]\n",
            "------------------------------------------------------------------------------\n",
            "x1             0.3046      0.096      3.182      0.002       0.115       0.495\n",
            "==============================================================================\n",
            "Omnibus:                        4.251   Durbin-Watson:                   1.743\n",
            "Prob(Omnibus):                  0.119   Jarque-Bera (JB):                3.743\n",
            "Skew:                           0.336   Prob(JB):                        0.154\n",
            "Kurtosis:                       3.669   Cond. No.                         1.00\n",
            "==============================================================================\n",
            "\n",
            "Warnings:\n",
            "[1] Standard Errors assume that the covariance matrix of the errors is correctly specified.\n"
          ]
        }
      ]
    },
    {
      "cell_type": "code",
      "source": [
        "mod = sm.OLS(y_std,x_std)\n",
        "res = mod.fit()\n",
        "print(res.summary())"
      ],
      "metadata": {
        "colab": {
          "base_uri": "https://localhost:8080/"
        },
        "id": "g-G6Oja5n2bZ",
        "outputId": "ac8b652a-1c6f-4fea-d2e8-89e6c38d9465"
      },
      "execution_count": 56,
      "outputs": [
        {
          "output_type": "stream",
          "name": "stdout",
          "text": [
            "                                 OLS Regression Results                                \n",
            "=======================================================================================\n",
            "Dep. Variable:                      y   R-squared (uncentered):                   0.093\n",
            "Model:                            OLS   Adj. R-squared (uncentered):              0.084\n",
            "Method:                 Least Squares   F-statistic:                              10.13\n",
            "Date:                Wed, 20 Jul 2022   Prob (F-statistic):                     0.00195\n",
            "Time:                        08:00:48   Log-Likelihood:                         -137.02\n",
            "No. Observations:                 100   AIC:                                      276.0\n",
            "Df Residuals:                      99   BIC:                                      278.7\n",
            "Df Model:                           1                                                  \n",
            "Covariance Type:            nonrobust                                                  \n",
            "==============================================================================\n",
            "                 coef    std err          t      P>|t|      [0.025      0.975]\n",
            "------------------------------------------------------------------------------\n",
            "x1             0.3046      0.096      3.182      0.002       0.115       0.495\n",
            "==============================================================================\n",
            "Omnibus:                        2.255   Durbin-Watson:                   2.105\n",
            "Prob(Omnibus):                  0.324   Jarque-Bera (JB):                1.847\n",
            "Skew:                           0.190   Prob(JB):                        0.397\n",
            "Kurtosis:                       2.453   Cond. No.                         1.00\n",
            "==============================================================================\n",
            "\n",
            "Warnings:\n",
            "[1] Standard Errors assume that the covariance matrix of the errors is correctly specified.\n"
          ]
        }
      ]
    }
  ]
}